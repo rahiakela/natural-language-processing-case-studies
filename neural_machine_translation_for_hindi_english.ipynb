{
  "nbformat": 4,
  "nbformat_minor": 0,
  "metadata": {
    "colab": {
      "name": "neural_machine_translation_for_hindi_english.ipynb",
      "provenance": [],
      "toc_visible": true,
      "authorship_tag": "ABX9TyOqvibQRVuBh3JYCGr2gEmY",
      "include_colab_link": true
    },
    "kernelspec": {
      "name": "python3",
      "display_name": "Python 3"
    }
  },
  "cells": [
    {
      "cell_type": "markdown",
      "metadata": {
        "id": "view-in-github",
        "colab_type": "text"
      },
      "source": [
        "<a href=\"https://colab.research.google.com/github/rahiakela/natural-language-processing-case-studies/blob/master/neural_machine_translation_for_hindi_english.ipynb\" target=\"_parent\"><img src=\"https://colab.research.google.com/assets/colab-badge.svg\" alt=\"Open In Colab\"/></a>"
      ]
    },
    {
      "cell_type": "markdown",
      "metadata": {
        "id": "XkxGlCsDx2iV",
        "colab_type": "text"
      },
      "source": [
        "# Neural Machine Translation for Hindi-English: Sequence to sequence learning"
      ]
    },
    {
      "cell_type": "markdown",
      "metadata": {
        "id": "YiDAXQ8eyT-U",
        "colab_type": "text"
      },
      "source": [
        "This article throws light on various aspects of building a basic Neural Machine Translation (NMT) model using the sequence to sequence learning approach, with LSTMs (Long Short-Term Memory). While there are numerous papers and blogs on NMT, this is another attempt on highlighting some of the intuitive features and also a step by step guide to performing similar NLP tasks. I have tried maintaining a balance between technical and non-technical details in this article. I hope it helps. So let’s get started!\n",
        "\n",
        "Reference:\n",
        "\n",
        "https://medium.com/analytics-vidhya/neural-machine-translation-for-hindi-english-sequence-to-sequence-learning-1298655e334a\n",
        "\n",
        "https://github.com/richaranjan23/My_Projects/tree/master/MSc_dissertation\n",
        "\n",
        "http://www.cfilt.iitb.ac.in/~moses/iitb_en_hi_parallel/iitb_corpus_download/"
      ]
    },
    {
      "cell_type": "markdown",
      "metadata": {
        "id": "L-xRk8h3y45f",
        "colab_type": "text"
      },
      "source": [
        "## Setup"
      ]
    },
    {
      "cell_type": "code",
      "metadata": {
        "id": "R1HcRcEny6JT",
        "colab_type": "code",
        "colab": {}
      },
      "source": [
        "from __future__ import absolute_import, division, print_function, unicode_literals\n",
        "\n",
        "try:\n",
        "  # %tensorflow_version only exists in Colab.\n",
        "  %tensorflow_version 2.x\n",
        "except Exception:\n",
        "  pass\n",
        "import tensorflow as tf\n",
        "from tensorflow import keras\n",
        "import numpy as np\n",
        "import pandas as pd\n",
        "\n",
        "import string\n",
        "import codecs\n",
        "import re\n",
        "import h5py\n",
        "from string import digits\n",
        "\n",
        "from nltk.translate.bleu_score import corpus_bleu\n",
        "from nltk.translate.bleu_score import SmoothingFunction\n",
        "from sklearn.model_selection import train_test_split\n",
        "\n",
        "from tensorflow.keras.layers import Input, LSTM, Embedding, Dense\n",
        "from tensorflow.keras.models import Model, load_model\n",
        "from tensorflow.keras.utils import plot_model, get_file\n",
        "\n",
        "import matplotlib.pyplot as plt\n",
        "%matplotlib inline"
      ],
      "execution_count": 0,
      "outputs": []
    },
    {
      "cell_type": "markdown",
      "metadata": {
        "id": "KKu5KCk7ya01",
        "colab_type": "text"
      },
      "source": [
        "## The Corpus — Pre-processing"
      ]
    },
    {
      "cell_type": "markdown",
      "metadata": {
        "id": "lPnqm4oJybwJ",
        "colab_type": "text"
      },
      "source": [
        "The languages chosen for building this translation models were Hindi and English, and the parallel corpora was obtained from the [IIT Bombay Hindi-English Parallel Corpus](http://www.cfilt.iitb.ac.in/~moses/iitb_en_hi_parallel/iitb_corpus_download/). This is a Hindi-English parallel corpus containing 1,492,827 pairs of sentences. "
      ]
    },
    {
      "cell_type": "markdown",
      "metadata": {
        "id": "FaVFyLmM0Y0Q",
        "colab_type": "text"
      },
      "source": [
        "### Download the dataset"
      ]
    },
    {
      "cell_type": "code",
      "metadata": {
        "id": "uFXBIUVA0Ubz",
        "colab_type": "code",
        "colab": {
          "base_uri": "https://localhost:8080/",
          "height": 50
        },
        "outputId": "48e5e833-07f4-4e3c-a8d3-e55c9ae2edde"
      },
      "source": [
        "# ref: https://stackoverflow.com/questions/56976078/how-do-i-load-images-dataset-using-tf-keras-utils-get-file\n",
        "dataset = tf.keras.utils.get_file(\n",
        "    fname=\"parallel.tgz\", \n",
        "    origin=\"http://www.cfilt.iitb.ac.in/~moses/iitb_en_hi_parallel/iitb_corpus_download/parallel.tgz\", \n",
        "    extract=True,\n",
        ")"
      ],
      "execution_count": 4,
      "outputs": [
        {
          "output_type": "stream",
          "text": [
            "Downloading data from http://www.cfilt.iitb.ac.in/~moses/iitb_en_hi_parallel/iitb_corpus_download/parallel.tgz\n",
            "96100352/96098008 [==============================] - 42s 0us/step\n"
          ],
          "name": "stdout"
        }
      ]
    },
    {
      "cell_type": "code",
      "metadata": {
        "id": "KRk6lGhf1LEW",
        "colab_type": "code",
        "colab": {
          "base_uri": "https://localhost:8080/",
          "height": 33
        },
        "outputId": "8934347c-7f4a-4c60-b2dc-dc56e6b4efac"
      },
      "source": [
        "# check the donwloaded data that is donloaded into ~/.keras/datasets directory\n",
        "! ls ~/.keras/datasets"
      ],
      "execution_count": 5,
      "outputs": [
        {
          "output_type": "stream",
          "text": [
            "parallel  parallel.tgz\n"
          ],
          "name": "stdout"
        }
      ]
    },
    {
      "cell_type": "code",
      "metadata": {
        "id": "Qz1E6D9H1kKM",
        "colab_type": "code",
        "colab": {}
      },
      "source": [
        "# copy the donwloaded data into current directory\n",
        "! cp -r ~/.keras/datasets ."
      ],
      "execution_count": 0,
      "outputs": []
    },
    {
      "cell_type": "markdown",
      "metadata": {
        "id": "psusf4IQ2e3L",
        "colab_type": "text"
      },
      "source": [
        "### Original data load"
      ]
    },
    {
      "cell_type": "code",
      "metadata": {
        "id": "AlhjpVM11pO7",
        "colab_type": "code",
        "colab": {}
      },
      "source": [
        "eng_sentence = (open('datasets/parallel/IITB.en-hi.en', encoding='utf-8', errors='ignore').read()).split('\\n')[:-1]\n",
        "hin_sentence = (open('datasets/parallel/IITB.en-hi.hi', encoding='utf-8', errors='ignore').read()).split('\\n')[:-1]"
      ],
      "execution_count": 0,
      "outputs": []
    },
    {
      "cell_type": "code",
      "metadata": {
        "id": "dMNRG-Dv3Txn",
        "colab_type": "code",
        "colab": {
          "base_uri": "https://localhost:8080/",
          "height": 197
        },
        "outputId": "8838ec66-ce30-4a33-940b-38d3af659257"
      },
      "source": [
        "# prepare dataframe for both sentence\n",
        "lines = pd.DataFrame(columns=['eng', 'hindi'])\n",
        "lines.eng = eng_sentence\n",
        "lines.hindi = hin_sentence\n",
        "lines.head()"
      ],
      "execution_count": 26,
      "outputs": [
        {
          "output_type": "execute_result",
          "data": {
            "text/html": [
              "<div>\n",
              "<style scoped>\n",
              "    .dataframe tbody tr th:only-of-type {\n",
              "        vertical-align: middle;\n",
              "    }\n",
              "\n",
              "    .dataframe tbody tr th {\n",
              "        vertical-align: top;\n",
              "    }\n",
              "\n",
              "    .dataframe thead th {\n",
              "        text-align: right;\n",
              "    }\n",
              "</style>\n",
              "<table border=\"1\" class=\"dataframe\">\n",
              "  <thead>\n",
              "    <tr style=\"text-align: right;\">\n",
              "      <th></th>\n",
              "      <th>eng</th>\n",
              "      <th>hindi</th>\n",
              "    </tr>\n",
              "  </thead>\n",
              "  <tbody>\n",
              "    <tr>\n",
              "      <th>0</th>\n",
              "      <td>Give your application an accessibility workout</td>\n",
              "      <td>अपने अनुप्रयोग को पहुंचनीयता व्यायाम का लाभ दें</td>\n",
              "    </tr>\n",
              "    <tr>\n",
              "      <th>1</th>\n",
              "      <td>Accerciser Accessibility Explorer</td>\n",
              "      <td>एक्सेर्साइसर पहुंचनीयता अन्वेषक</td>\n",
              "    </tr>\n",
              "    <tr>\n",
              "      <th>2</th>\n",
              "      <td>The default plugin layout for the bottom panel</td>\n",
              "      <td>निचले पटल के लिए डिफोल्ट प्लग-इन खाका</td>\n",
              "    </tr>\n",
              "    <tr>\n",
              "      <th>3</th>\n",
              "      <td>The default plugin layout for the top panel</td>\n",
              "      <td>ऊपरी पटल के लिए डिफोल्ट प्लग-इन खाका</td>\n",
              "    </tr>\n",
              "    <tr>\n",
              "      <th>4</th>\n",
              "      <td>A list of plugins that are disabled by default</td>\n",
              "      <td>उन प्लग-इनों की सूची जिन्हें डिफोल्ट रूप से नि...</td>\n",
              "    </tr>\n",
              "  </tbody>\n",
              "</table>\n",
              "</div>"
            ],
            "text/plain": [
              "                                              eng                                              hindi\n",
              "0  Give your application an accessibility workout    अपने अनुप्रयोग को पहुंचनीयता व्यायाम का लाभ दें\n",
              "1               Accerciser Accessibility Explorer                    एक्सेर्साइसर पहुंचनीयता अन्वेषक\n",
              "2  The default plugin layout for the bottom panel              निचले पटल के लिए डिफोल्ट प्लग-इन खाका\n",
              "3     The default plugin layout for the top panel               ऊपरी पटल के लिए डिफोल्ट प्लग-इन खाका\n",
              "4  A list of plugins that are disabled by default  उन प्लग-इनों की सूची जिन्हें डिफोल्ट रूप से नि..."
            ]
          },
          "metadata": {
            "tags": []
          },
          "execution_count": 26
        }
      ]
    },
    {
      "cell_type": "code",
      "metadata": {
        "id": "uBuSZ5kP3y-E",
        "colab_type": "code",
        "colab": {
          "base_uri": "https://localhost:8080/",
          "height": 33
        },
        "outputId": "5357fe8f-55cd-4e34-e38e-fb36c4288ed5"
      },
      "source": [
        "lines.shape"
      ],
      "execution_count": 27,
      "outputs": [
        {
          "output_type": "execute_result",
          "data": {
            "text/plain": [
              "(1561840, 2)"
            ]
          },
          "metadata": {
            "tags": []
          },
          "execution_count": 27
        }
      ]
    },
    {
      "cell_type": "markdown",
      "metadata": {
        "id": "BpHYHk8k5198",
        "colab_type": "text"
      },
      "source": [
        "### Original data cleaning"
      ]
    },
    {
      "cell_type": "code",
      "metadata": {
        "id": "kcDAvoCC4Ojc",
        "colab_type": "code",
        "colab": {
          "base_uri": "https://localhost:8080/",
          "height": 33
        },
        "outputId": "58158170-dee0-47e1-fdcf-b25d1e07a6f6"
      },
      "source": [
        "# truncate dataset\n",
        "lines = lines[:1000000]\n",
        "lines.shape"
      ],
      "execution_count": 28,
      "outputs": [
        {
          "output_type": "execute_result",
          "data": {
            "text/plain": [
              "(1000000, 2)"
            ]
          },
          "metadata": {
            "tags": []
          },
          "execution_count": 28
        }
      ]
    },
    {
      "cell_type": "code",
      "metadata": {
        "id": "XLxaOMw47NAG",
        "colab_type": "code",
        "colab": {}
      },
      "source": [
        "# clean hindi text\n",
        "hindi_clean = []\n",
        "for line in lines.hindi:\n",
        "  nstr = re.sub('\\s+_\\s+[A-Za-z]', '', line)\n",
        "  nstr = re.sub('\\(*\\)*', '', nstr)\n",
        "  nstr = re.sub('%.*?[A-Za-z]', '', nstr)\n",
        "  nstr = re.sub('[A-Za-z]', '', nstr)\n",
        "  nstr = nstr.strip()\n",
        "  nstr = re.sub('\\s+', ' ', nstr)\n",
        "  hindi_clean.append(nstr)"
      ],
      "execution_count": 0,
      "outputs": []
    },
    {
      "cell_type": "code",
      "metadata": {
        "id": "JI3GA-ui8O6p",
        "colab_type": "code",
        "colab": {}
      },
      "source": [
        "# clean english text\n",
        "eng_clean = []\n",
        "for line in lines.eng:\n",
        "  estr = re.sub('\\s+_\\s', '', line)\n",
        "  estr = re.sub(r'[^\\x00-\\x7F]+', ' ', estr)\n",
        "  estr = estr.strip()\n",
        "  estr = re.sub('\\s+', ' ', estr)\n",
        "  eng_clean.append(estr)"
      ],
      "execution_count": 0,
      "outputs": []
    },
    {
      "cell_type": "code",
      "metadata": {
        "id": "Gc1Jk4gq84uk",
        "colab_type": "code",
        "colab": {
          "base_uri": "https://localhost:8080/",
          "height": 33
        },
        "outputId": "bd4683ca-bdae-47f4-9062-8d88333ed1e9"
      },
      "source": [
        "len(hindi_clean), len(eng_clean)"
      ],
      "execution_count": 31,
      "outputs": [
        {
          "output_type": "execute_result",
          "data": {
            "text/plain": [
              "(1000000, 1000000)"
            ]
          },
          "metadata": {
            "tags": []
          },
          "execution_count": 31
        }
      ]
    },
    {
      "cell_type": "code",
      "metadata": {
        "id": "rTdQ4RI_911x",
        "colab_type": "code",
        "colab": {}
      },
      "source": [
        "# update dataframe hindi/english column with cleaned data\n",
        "lines.hindi = hindi_clean\n",
        "lines.eng = eng_clean\n",
        "\n",
        "# make lower case\n",
        "lines.hindi = lines.hindi.apply(lambda x: x.lower())\n",
        "lines.eng = lines.eng.apply(lambda x: x.lower())"
      ],
      "execution_count": 0,
      "outputs": []
    },
    {
      "cell_type": "code",
      "metadata": {
        "id": "8_5eXzAu-j3g",
        "colab_type": "code",
        "colab": {}
      },
      "source": [
        "# remove punctuation\n",
        "exclude = set(string.punctuation)\n",
        "lines.hindi = lines.hindi.apply(lambda x: ''.join(ch for ch in x if ch not in exclude))\n",
        "lines.eng = lines.eng.apply(lambda x: ''.join(ch for ch in x if ch not in exclude))"
      ],
      "execution_count": 0,
      "outputs": []
    },
    {
      "cell_type": "code",
      "metadata": {
        "id": "5RWpUati_Ux-",
        "colab_type": "code",
        "colab": {}
      },
      "source": [
        "# remove digits from text\n",
        "remove_digits = str.maketrans('', '', digits)\n",
        "lines.hindi = lines.hindi.apply(lambda x: x.translate(remove_digits))\n",
        "lines.eng = lines.eng.apply(lambda x: x.translate(remove_digits))"
      ],
      "execution_count": 0,
      "outputs": []
    },
    {
      "cell_type": "code",
      "metadata": {
        "id": "6nKAx4KjADqh",
        "colab_type": "code",
        "colab": {
          "base_uri": "https://localhost:8080/",
          "height": 347
        },
        "outputId": "f00e8892-fe7c-4e19-b492-7d96f82408d4"
      },
      "source": [
        "lines.sample(10)"
      ],
      "execution_count": 35,
      "outputs": [
        {
          "output_type": "execute_result",
          "data": {
            "text/html": [
              "<div>\n",
              "<style scoped>\n",
              "    .dataframe tbody tr th:only-of-type {\n",
              "        vertical-align: middle;\n",
              "    }\n",
              "\n",
              "    .dataframe tbody tr th {\n",
              "        vertical-align: top;\n",
              "    }\n",
              "\n",
              "    .dataframe thead th {\n",
              "        text-align: right;\n",
              "    }\n",
              "</style>\n",
              "<table border=\"1\" class=\"dataframe\">\n",
              "  <thead>\n",
              "    <tr style=\"text-align: right;\">\n",
              "      <th></th>\n",
              "      <th>eng</th>\n",
              "      <th>hindi</th>\n",
              "    </tr>\n",
              "  </thead>\n",
              "  <tbody>\n",
              "    <tr>\n",
              "      <th>338440</th>\n",
              "      <td>and of the fruits of the date  palm and grapes...</td>\n",
              "      <td>और इसी तरह खुरमें और अंगूर के फल से हम तुमको श...</td>\n",
              "    </tr>\n",
              "    <tr>\n",
              "      <th>748795</th>\n",
              "      <td>gautama buddha</td>\n",
              "      <td>धर्मकेतु</td>\n",
              "    </tr>\n",
              "    <tr>\n",
              "      <th>225478</th>\n",
              "      <td>cisco  ciscosecurity</td>\n",
              "      <td>सिस्कोसिस्कोसिक्यूरिटी</td>\n",
              "    </tr>\n",
              "    <tr>\n",
              "      <th>827630</th>\n",
              "      <td>zoological science</td>\n",
              "      <td>जंतु विज्ञान</td>\n",
              "    </tr>\n",
              "    <tr>\n",
              "      <th>409257</th>\n",
              "      <td>as for those who with no authority to do so di...</td>\n",
              "      <td>जो लोग बिना किसी ऐसे प्रमाण के जो उनके पास आया...</td>\n",
              "    </tr>\n",
              "    <tr>\n",
              "      <th>46065</th>\n",
              "      <td>direction</td>\n",
              "      <td>दिशा</td>\n",
              "    </tr>\n",
              "    <tr>\n",
              "      <th>347345</th>\n",
              "      <td>and we spread out the earth and cast in it fir...</td>\n",
              "      <td>और धरती को हमने फैलाया और उसमे अटल पहाड़ डाल द...</td>\n",
              "    </tr>\n",
              "    <tr>\n",
              "      <th>517243</th>\n",
              "      <td>it s not just that he s spending days in israe...</td>\n",
              "      <td>आखिर बराक ओबामा इजरायल और अरब के साथ उसके संघर...</td>\n",
              "    </tr>\n",
              "    <tr>\n",
              "      <th>467640</th>\n",
              "      <td>if you make both figures narayana and baladeva...</td>\n",
              "      <td>यदि तुम नारायण और बलदेव दोनों की आकृति बनाओ तो...</td>\n",
              "    </tr>\n",
              "    <tr>\n",
              "      <th>819093</th>\n",
              "      <td>attractive</td>\n",
              "      <td>मंजु</td>\n",
              "    </tr>\n",
              "  </tbody>\n",
              "</table>\n",
              "</div>"
            ],
            "text/plain": [
              "                                                      eng                                              hindi\n",
              "338440  and of the fruits of the date  palm and grapes...  और इसी तरह खुरमें और अंगूर के फल से हम तुमको श...\n",
              "748795                                     gautama buddha                                           धर्मकेतु\n",
              "225478                               cisco  ciscosecurity                             सिस्कोसिस्कोसिक्यूरिटी\n",
              "827630                                 zoological science                                       जंतु विज्ञान\n",
              "409257  as for those who with no authority to do so di...  जो लोग बिना किसी ऐसे प्रमाण के जो उनके पास आया...\n",
              "46065                                           direction                                               दिशा\n",
              "347345  and we spread out the earth and cast in it fir...  और धरती को हमने फैलाया और उसमे अटल पहाड़ डाल द...\n",
              "517243  it s not just that he s spending days in israe...  आखिर बराक ओबामा इजरायल और अरब के साथ उसके संघर...\n",
              "467640  if you make both figures narayana and baladeva...  यदि तुम नारायण और बलदेव दोनों की आकृति बनाओ तो...\n",
              "819093                                         attractive                                               मंजु"
            ]
          },
          "metadata": {
            "tags": []
          },
          "execution_count": 35
        }
      ]
    },
    {
      "cell_type": "code",
      "metadata": {
        "id": "rPnH9Bx9BIoo",
        "colab_type": "code",
        "colab": {
          "base_uri": "https://localhost:8080/",
          "height": 647
        },
        "outputId": "ac954fd2-b1f1-43a7-f66d-d86ee99b7ec4"
      },
      "source": [
        "lines.sample(20)"
      ],
      "execution_count": 36,
      "outputs": [
        {
          "output_type": "execute_result",
          "data": {
            "text/html": [
              "<div>\n",
              "<style scoped>\n",
              "    .dataframe tbody tr th:only-of-type {\n",
              "        vertical-align: middle;\n",
              "    }\n",
              "\n",
              "    .dataframe tbody tr th {\n",
              "        vertical-align: top;\n",
              "    }\n",
              "\n",
              "    .dataframe thead th {\n",
              "        text-align: right;\n",
              "    }\n",
              "</style>\n",
              "<table border=\"1\" class=\"dataframe\">\n",
              "  <thead>\n",
              "    <tr style=\"text-align: right;\">\n",
              "      <th></th>\n",
              "      <th>eng</th>\n",
              "      <th>hindi</th>\n",
              "    </tr>\n",
              "  </thead>\n",
              "  <tbody>\n",
              "    <tr>\n",
              "      <th>186593</th>\n",
              "      <td>gangneung</td>\n",
              "      <td>गेंगनुएंग</td>\n",
              "    </tr>\n",
              "    <tr>\n",
              "      <th>482230</th>\n",
              "      <td>it had warned the rbi as far back as  that gol...</td>\n",
              "      <td>बीआइएस ने रिज़र्व बैंक को  में ही आगाह कर दिया...</td>\n",
              "    </tr>\n",
              "    <tr>\n",
              "      <th>170409</th>\n",
              "      <td>spacing modifier letters</td>\n",
              "      <td>जगह परिवर्धक अक्षर</td>\n",
              "    </tr>\n",
              "    <tr>\n",
              "      <th>571255</th>\n",
              "      <td>this was after</td>\n",
              "      <td>यह  के बाद की बात है</td>\n",
              "    </tr>\n",
              "    <tr>\n",
              "      <th>980329</th>\n",
              "      <td>liquidity adjustment facility can be availed o...</td>\n",
              "      <td>चलनिधि समायोजन सुविधा बैंकों द्वारा उनके चल सं...</td>\n",
              "    </tr>\n",
              "    <tr>\n",
              "      <th>43133</th>\n",
              "      <td>the type of the values in the interval</td>\n",
              "      <td>अंतराल में मानों का प्रकार</td>\n",
              "    </tr>\n",
              "    <tr>\n",
              "      <th>282026</th>\n",
              "      <td>and inquire those of the city where we have be...</td>\n",
              "      <td>आप उस बस्ती से पूछ लीजिए जहाँ हम थे और उस क़ाफ...</td>\n",
              "    </tr>\n",
              "    <tr>\n",
              "      <th>831924</th>\n",
              "      <td>cardboard</td>\n",
              "      <td>दफ़्ती</td>\n",
              "    </tr>\n",
              "    <tr>\n",
              "      <th>646312</th>\n",
              "      <td>charge time accuracy profile</td>\n",
              "      <td>समय सटीकता प्रोफाइल चार्ज करें</td>\n",
              "    </tr>\n",
              "    <tr>\n",
              "      <th>82013</th>\n",
              "      <td>th</td>\n",
              "      <td>आठवां</td>\n",
              "    </tr>\n",
              "    <tr>\n",
              "      <th>860237</th>\n",
              "      <td>mauritian</td>\n",
              "      <td>मारीशियन</td>\n",
              "    </tr>\n",
              "    <tr>\n",
              "      <th>862423</th>\n",
              "      <td>hebrew</td>\n",
              "      <td>इब्रानी</td>\n",
              "    </tr>\n",
              "    <tr>\n",
              "      <th>719574</th>\n",
              "      <td>work over</td>\n",
              "      <td>धुनना</td>\n",
              "    </tr>\n",
              "    <tr>\n",
              "      <th>119592</th>\n",
              "      <td>choose calendar file</td>\n",
              "      <td>पंचांग फ़ाइल चुनें</td>\n",
              "    </tr>\n",
              "    <tr>\n",
              "      <th>970290</th>\n",
              "      <td>staphylococcus aureus has drug resistance to m...</td>\n",
              "      <td>स्टैफिलोकोकस औरियस मेथिसीलिन के लिए औषध प्रतिर...</td>\n",
              "    </tr>\n",
              "    <tr>\n",
              "      <th>161249</th>\n",
              "      <td>you need to specify an uid</td>\n",
              "      <td>आपको एक यूआईडी उल्लेखित करना होगा</td>\n",
              "    </tr>\n",
              "    <tr>\n",
              "      <th>212652</th>\n",
              "      <td>insert signature at cursor position</td>\n",
              "      <td>संकेतक स्थिति सेट करें</td>\n",
              "    </tr>\n",
              "    <tr>\n",
              "      <th>854856</th>\n",
              "      <td>symmetry</td>\n",
              "      <td>सुडौलपन</td>\n",
              "    </tr>\n",
              "    <tr>\n",
              "      <th>189253</th>\n",
              "      <td>show hst image aurora</td>\n",
              "      <td>एचएसटी छवि दिखाएँ आउरा</td>\n",
              "    </tr>\n",
              "    <tr>\n",
              "      <th>835513</th>\n",
              "      <td>ruminative</td>\n",
              "      <td>चिंतनशील</td>\n",
              "    </tr>\n",
              "  </tbody>\n",
              "</table>\n",
              "</div>"
            ],
            "text/plain": [
              "                                                      eng                                              hindi\n",
              "186593                                          gangneung                                         गेंगनुएंग \n",
              "482230  it had warned the rbi as far back as  that gol...  बीआइएस ने रिज़र्व बैंक को  में ही आगाह कर दिया...\n",
              "170409                           spacing modifier letters                                 जगह परिवर्धक अक्षर\n",
              "571255                                  this was after                                  यह  के बाद की बात है\n",
              "980329  liquidity adjustment facility can be availed o...  चलनिधि समायोजन सुविधा बैंकों द्वारा उनके चल सं...\n",
              "43133              the type of the values in the interval                         अंतराल में मानों का प्रकार\n",
              "282026  and inquire those of the city where we have be...  आप उस बस्ती से पूछ लीजिए जहाँ हम थे और उस क़ाफ...\n",
              "831924                                          cardboard                                             दफ़्ती\n",
              "646312                       charge time accuracy profile                     समय सटीकता प्रोफाइल चार्ज करें\n",
              "82013                                                  th                                              आठवां\n",
              "860237                                          mauritian                                           मारीशियन\n",
              "862423                                             hebrew                                            इब्रानी\n",
              "719574                                          work over                                              धुनना\n",
              "119592                               choose calendar file                                 पंचांग फ़ाइल चुनें\n",
              "970290  staphylococcus aureus has drug resistance to m...  स्टैफिलोकोकस औरियस मेथिसीलिन के लिए औषध प्रतिर...\n",
              "161249                         you need to specify an uid                  आपको एक यूआईडी उल्लेखित करना होगा\n",
              "212652                insert signature at cursor position                             संकेतक स्थिति सेट करें\n",
              "854856                                           symmetry                                            सुडौलपन\n",
              "189253                              show hst image aurora                            एचएसटी छवि दिखाएँ आउरा \n",
              "835513                                         ruminative                                           चिंतनशील"
            ]
          },
          "metadata": {
            "tags": []
          },
          "execution_count": 36
        }
      ]
    },
    {
      "cell_type": "markdown",
      "metadata": {
        "id": "ivMC0t8UAXnN",
        "colab_type": "text"
      },
      "source": [
        "## Filter short sentences"
      ]
    },
    {
      "cell_type": "code",
      "metadata": {
        "id": "6AWsw2AMAJUP",
        "colab_type": "code",
        "colab": {}
      },
      "source": [
        ""
      ],
      "execution_count": 0,
      "outputs": []
    }
  ]
}