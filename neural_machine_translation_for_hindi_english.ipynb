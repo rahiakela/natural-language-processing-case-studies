{
  "nbformat": 4,
  "nbformat_minor": 0,
  "metadata": {
    "colab": {
      "name": "neural_machine_translation_for_hindi_english.ipynb",
      "provenance": [],
      "toc_visible": true,
      "authorship_tag": "ABX9TyNviY4S4VsCtPJIb6uyvUiN",
      "include_colab_link": true
    },
    "kernelspec": {
      "name": "python3",
      "display_name": "Python 3"
    }
  },
  "cells": [
    {
      "cell_type": "markdown",
      "metadata": {
        "id": "view-in-github",
        "colab_type": "text"
      },
      "source": [
        "<a href=\"https://colab.research.google.com/github/rahiakela/natural-language-processing-case-studies/blob/master/neural_machine_translation_for_hindi_english.ipynb\" target=\"_parent\"><img src=\"https://colab.research.google.com/assets/colab-badge.svg\" alt=\"Open In Colab\"/></a>"
      ]
    },
    {
      "cell_type": "markdown",
      "metadata": {
        "id": "XkxGlCsDx2iV",
        "colab_type": "text"
      },
      "source": [
        "# Neural Machine Translation for Hindi-English: Sequence to sequence learning"
      ]
    },
    {
      "cell_type": "markdown",
      "metadata": {
        "id": "YiDAXQ8eyT-U",
        "colab_type": "text"
      },
      "source": [
        "This article throws light on various aspects of building a basic Neural Machine Translation (NMT) model using the sequence to sequence learning approach, with LSTMs (Long Short-Term Memory). While there are numerous papers and blogs on NMT, this is another attempt on highlighting some of the intuitive features and also a step by step guide to performing similar NLP tasks. I have tried maintaining a balance between technical and non-technical details in this article. I hope it helps. So let’s get started!\n",
        "\n",
        "Reference:\n",
        "\n",
        "https://medium.com/analytics-vidhya/neural-machine-translation-for-hindi-english-sequence-to-sequence-learning-1298655e334a\n",
        "\n",
        "https://github.com/richaranjan23/My_Projects/tree/master/MSc_dissertation\n",
        "\n",
        "http://www.cfilt.iitb.ac.in/~moses/iitb_en_hi_parallel/iitb_corpus_download/"
      ]
    },
    {
      "cell_type": "markdown",
      "metadata": {
        "id": "L-xRk8h3y45f",
        "colab_type": "text"
      },
      "source": [
        "## Setup"
      ]
    },
    {
      "cell_type": "code",
      "metadata": {
        "id": "R1HcRcEny6JT",
        "colab_type": "code",
        "colab": {}
      },
      "source": [
        "from __future__ import absolute_import, division, print_function, unicode_literals\n",
        "\n",
        "try:\n",
        "  # %tensorflow_version only exists in Colab.\n",
        "  %tensorflow_version 2.x\n",
        "except Exception:\n",
        "  pass\n",
        "import tensorflow as tf\n",
        "from tensorflow import keras\n",
        "import numpy as np\n",
        "import pandas as pd\n",
        "\n",
        "import string\n",
        "import codecs\n",
        "import re\n",
        "import h5py\n",
        "from string import digits\n",
        "\n",
        "from nltk.translate.bleu_score import corpus_bleu\n",
        "from nltk.translate.bleu_score import SmoothingFunction\n",
        "from sklearn.model_selection import train_test_split\n",
        "\n",
        "from tensorflow.keras.layers import Input, LSTM, Embedding, Dense\n",
        "from tensorflow.keras.models import Model, load_model\n",
        "from tensorflow.keras.utils import plot_model, get_file\n",
        "\n",
        "import matplotlib.pyplot as plt\n",
        "%matplotlib inline"
      ],
      "execution_count": 0,
      "outputs": []
    },
    {
      "cell_type": "markdown",
      "metadata": {
        "id": "KKu5KCk7ya01",
        "colab_type": "text"
      },
      "source": [
        "## The Corpus — Pre-processing"
      ]
    },
    {
      "cell_type": "markdown",
      "metadata": {
        "id": "lPnqm4oJybwJ",
        "colab_type": "text"
      },
      "source": [
        "The languages chosen for building this translation models were Hindi and English, and the parallel corpora was obtained from the [IIT Bombay Hindi-English Parallel Corpus](http://www.cfilt.iitb.ac.in/~moses/iitb_en_hi_parallel/iitb_corpus_download/). This is a Hindi-English parallel corpus containing 1,492,827 pairs of sentences. "
      ]
    },
    {
      "cell_type": "markdown",
      "metadata": {
        "id": "FaVFyLmM0Y0Q",
        "colab_type": "text"
      },
      "source": [
        "### Download the dataset"
      ]
    },
    {
      "cell_type": "code",
      "metadata": {
        "id": "uFXBIUVA0Ubz",
        "colab_type": "code",
        "colab": {
          "base_uri": "https://localhost:8080/",
          "height": 50
        },
        "outputId": "48e5e833-07f4-4e3c-a8d3-e55c9ae2edde"
      },
      "source": [
        "# ref: https://stackoverflow.com/questions/56976078/how-do-i-load-images-dataset-using-tf-keras-utils-get-file\n",
        "dataset = tf.keras.utils.get_file(\n",
        "    fname=\"parallel.tgz\", \n",
        "    origin=\"http://www.cfilt.iitb.ac.in/~moses/iitb_en_hi_parallel/iitb_corpus_download/parallel.tgz\", \n",
        "    extract=True,\n",
        ")"
      ],
      "execution_count": 4,
      "outputs": [
        {
          "output_type": "stream",
          "text": [
            "Downloading data from http://www.cfilt.iitb.ac.in/~moses/iitb_en_hi_parallel/iitb_corpus_download/parallel.tgz\n",
            "96100352/96098008 [==============================] - 42s 0us/step\n"
          ],
          "name": "stdout"
        }
      ]
    },
    {
      "cell_type": "code",
      "metadata": {
        "id": "KRk6lGhf1LEW",
        "colab_type": "code",
        "colab": {
          "base_uri": "https://localhost:8080/",
          "height": 33
        },
        "outputId": "8934347c-7f4a-4c60-b2dc-dc56e6b4efac"
      },
      "source": [
        "# check the donwloaded data that is donloaded into ~/.keras/datasets directory\n",
        "! ls ~/.keras/datasets"
      ],
      "execution_count": 5,
      "outputs": [
        {
          "output_type": "stream",
          "text": [
            "parallel  parallel.tgz\n"
          ],
          "name": "stdout"
        }
      ]
    },
    {
      "cell_type": "code",
      "metadata": {
        "id": "Qz1E6D9H1kKM",
        "colab_type": "code",
        "colab": {}
      },
      "source": [
        "# copy the donwloaded data into current directory\n",
        "! cp -r ~/.keras/datasets ."
      ],
      "execution_count": 0,
      "outputs": []
    },
    {
      "cell_type": "markdown",
      "metadata": {
        "id": "psusf4IQ2e3L",
        "colab_type": "text"
      },
      "source": [
        "### Original data load"
      ]
    },
    {
      "cell_type": "code",
      "metadata": {
        "id": "AlhjpVM11pO7",
        "colab_type": "code",
        "colab": {}
      },
      "source": [
        "eng_sentence = (open('datasets/parallel/IITB.en-hi.en', encoding='utf-8', errors='ignore').read()).split('\\n')[:-1]\n",
        "hin_sentence = (open('datasets/parallel/IITB.en-hi.hi', encoding='utf-8', errors='ignore').read()).split('\\n')[:-1]"
      ],
      "execution_count": 0,
      "outputs": []
    },
    {
      "cell_type": "code",
      "metadata": {
        "id": "dMNRG-Dv3Txn",
        "colab_type": "code",
        "colab": {
          "base_uri": "https://localhost:8080/",
          "height": 197
        },
        "outputId": "00f25463-ae7c-4ba8-af3e-1955b1f75c14"
      },
      "source": [
        "# prepare dataframe for both sentence\n",
        "lines = pd.DataFrame(columns=['eng', 'hindi'])\n",
        "lines.eng = eng_sentence\n",
        "lines.hindi = hin_sentence\n",
        "lines.head()"
      ],
      "execution_count": 13,
      "outputs": [
        {
          "output_type": "execute_result",
          "data": {
            "text/html": [
              "<div>\n",
              "<style scoped>\n",
              "    .dataframe tbody tr th:only-of-type {\n",
              "        vertical-align: middle;\n",
              "    }\n",
              "\n",
              "    .dataframe tbody tr th {\n",
              "        vertical-align: top;\n",
              "    }\n",
              "\n",
              "    .dataframe thead th {\n",
              "        text-align: right;\n",
              "    }\n",
              "</style>\n",
              "<table border=\"1\" class=\"dataframe\">\n",
              "  <thead>\n",
              "    <tr style=\"text-align: right;\">\n",
              "      <th></th>\n",
              "      <th>eng</th>\n",
              "      <th>hindi</th>\n",
              "    </tr>\n",
              "  </thead>\n",
              "  <tbody>\n",
              "    <tr>\n",
              "      <th>0</th>\n",
              "      <td>Give your application an accessibility workout</td>\n",
              "      <td>अपने अनुप्रयोग को पहुंचनीयता व्यायाम का लाभ दें</td>\n",
              "    </tr>\n",
              "    <tr>\n",
              "      <th>1</th>\n",
              "      <td>Accerciser Accessibility Explorer</td>\n",
              "      <td>एक्सेर्साइसर पहुंचनीयता अन्वेषक</td>\n",
              "    </tr>\n",
              "    <tr>\n",
              "      <th>2</th>\n",
              "      <td>The default plugin layout for the bottom panel</td>\n",
              "      <td>निचले पटल के लिए डिफोल्ट प्लग-इन खाका</td>\n",
              "    </tr>\n",
              "    <tr>\n",
              "      <th>3</th>\n",
              "      <td>The default plugin layout for the top panel</td>\n",
              "      <td>ऊपरी पटल के लिए डिफोल्ट प्लग-इन खाका</td>\n",
              "    </tr>\n",
              "    <tr>\n",
              "      <th>4</th>\n",
              "      <td>A list of plugins that are disabled by default</td>\n",
              "      <td>उन प्लग-इनों की सूची जिन्हें डिफोल्ट रूप से नि...</td>\n",
              "    </tr>\n",
              "  </tbody>\n",
              "</table>\n",
              "</div>"
            ],
            "text/plain": [
              "                                              eng                                              hindi\n",
              "0  Give your application an accessibility workout    अपने अनुप्रयोग को पहुंचनीयता व्यायाम का लाभ दें\n",
              "1               Accerciser Accessibility Explorer                    एक्सेर्साइसर पहुंचनीयता अन्वेषक\n",
              "2  The default plugin layout for the bottom panel              निचले पटल के लिए डिफोल्ट प्लग-इन खाका\n",
              "3     The default plugin layout for the top panel               ऊपरी पटल के लिए डिफोल्ट प्लग-इन खाका\n",
              "4  A list of plugins that are disabled by default  उन प्लग-इनों की सूची जिन्हें डिफोल्ट रूप से नि..."
            ]
          },
          "metadata": {
            "tags": []
          },
          "execution_count": 13
        }
      ]
    },
    {
      "cell_type": "code",
      "metadata": {
        "id": "uBuSZ5kP3y-E",
        "colab_type": "code",
        "colab": {
          "base_uri": "https://localhost:8080/",
          "height": 33
        },
        "outputId": "5ce396ce-7e6a-418d-c01b-7d62831533c4"
      },
      "source": [
        "lines.shape"
      ],
      "execution_count": 14,
      "outputs": [
        {
          "output_type": "execute_result",
          "data": {
            "text/plain": [
              "(1561840, 2)"
            ]
          },
          "metadata": {
            "tags": []
          },
          "execution_count": 14
        }
      ]
    },
    {
      "cell_type": "markdown",
      "metadata": {
        "id": "BpHYHk8k5198",
        "colab_type": "text"
      },
      "source": [
        "### Original data cleaning"
      ]
    },
    {
      "cell_type": "code",
      "metadata": {
        "id": "kcDAvoCC4Ojc",
        "colab_type": "code",
        "colab": {
          "base_uri": "https://localhost:8080/",
          "height": 33
        },
        "outputId": "c6591b28-4260-42f9-94d3-6ecba9e83b1d"
      },
      "source": [
        "# truncate dataset\n",
        "lines = lines[:1000000]\n",
        "lines.shape"
      ],
      "execution_count": 15,
      "outputs": [
        {
          "output_type": "execute_result",
          "data": {
            "text/plain": [
              "(1000000, 2)"
            ]
          },
          "metadata": {
            "tags": []
          },
          "execution_count": 15
        }
      ]
    },
    {
      "cell_type": "code",
      "metadata": {
        "id": "XLxaOMw47NAG",
        "colab_type": "code",
        "colab": {}
      },
      "source": [
        "# clean hindi text\n",
        "hindi_clean = []\n",
        "for line in lines.hindi:\n",
        "  nstr = re.sub('\\s+_\\s+[A-Za-z]', '', line)\n",
        "  nstr = re.sub('\\(*\\)*', '', nstr)\n",
        "  nstr = re.sub('%.*?[A-Za-z]', '', nstr)\n",
        "  nstr = re.sub('[A-Za-z]', '', nstr)\n",
        "  nstr = nstr.strip()\n",
        "  nstr = re.sub('\\s+', '', nstr)\n",
        "  hindi_clean.append(nstr)"
      ],
      "execution_count": 0,
      "outputs": []
    },
    {
      "cell_type": "code",
      "metadata": {
        "id": "JI3GA-ui8O6p",
        "colab_type": "code",
        "colab": {}
      },
      "source": [
        "# clean english text\n",
        "eng_clean = []\n",
        "for line in lines.eng:\n",
        "  estr = re.sub('\\s+_\\s', '', line)\n",
        "  estr = re.sub(r'[^\\x00-\\x7F]+', ' ', estr)\n",
        "  estr = estr.strip()\n",
        "  estr = re.sub('\\s+', ' ', estr)\n",
        "  eng_clean.append(estr)"
      ],
      "execution_count": 0,
      "outputs": []
    },
    {
      "cell_type": "code",
      "metadata": {
        "id": "Gc1Jk4gq84uk",
        "colab_type": "code",
        "colab": {
          "base_uri": "https://localhost:8080/",
          "height": 33
        },
        "outputId": "8ba1c510-8dba-43f8-eeb6-fb6be295181f"
      },
      "source": [
        "len(hindi_clean), len(eng_clean)"
      ],
      "execution_count": 18,
      "outputs": [
        {
          "output_type": "execute_result",
          "data": {
            "text/plain": [
              "(1000000, 1000000)"
            ]
          },
          "metadata": {
            "tags": []
          },
          "execution_count": 18
        }
      ]
    },
    {
      "cell_type": "code",
      "metadata": {
        "id": "rTdQ4RI_911x",
        "colab_type": "code",
        "colab": {}
      },
      "source": [
        "# update dataframe hindi/english column with cleaned data\n",
        "lines.hindi = hindi_clean\n",
        "lines.eng = eng_clean\n",
        "\n",
        "# make lower case\n",
        "lines.hindi = lines.hindi.apply(lambda x: x.lower())\n",
        "lines.eng = lines.eng.apply(lambda x: x.lower())"
      ],
      "execution_count": 0,
      "outputs": []
    },
    {
      "cell_type": "code",
      "metadata": {
        "id": "8_5eXzAu-j3g",
        "colab_type": "code",
        "colab": {}
      },
      "source": [
        "# remove punctuation\n",
        "exclude = set(string.punctuation)\n",
        "lines.hindi = lines.hindi.apply(lambda x: ''.join(ch for ch in x if ch not in exclude))\n",
        "lines.eng = lines.eng.apply(lambda x: ''.join(ch for ch in x if ch not in exclude))"
      ],
      "execution_count": 0,
      "outputs": []
    },
    {
      "cell_type": "code",
      "metadata": {
        "id": "5RWpUati_Ux-",
        "colab_type": "code",
        "colab": {}
      },
      "source": [
        "# remove digits from text\n",
        "remove_digits = str.maketrans('', '', digits)\n",
        "lines.hindi = lines.hindi.apply(lambda x: x.translate(remove_digits))\n",
        "lines.eng = lines.eng.apply(lambda x: x.translate(remove_digits))"
      ],
      "execution_count": 0,
      "outputs": []
    },
    {
      "cell_type": "code",
      "metadata": {
        "id": "6nKAx4KjADqh",
        "colab_type": "code",
        "colab": {
          "base_uri": "https://localhost:8080/",
          "height": 347
        },
        "outputId": "512ca2bb-89f8-4691-c1a3-e63c1079c82c"
      },
      "source": [
        "lines.sample(10)"
      ],
      "execution_count": 22,
      "outputs": [
        {
          "output_type": "execute_result",
          "data": {
            "text/html": [
              "<div>\n",
              "<style scoped>\n",
              "    .dataframe tbody tr th:only-of-type {\n",
              "        vertical-align: middle;\n",
              "    }\n",
              "\n",
              "    .dataframe tbody tr th {\n",
              "        vertical-align: top;\n",
              "    }\n",
              "\n",
              "    .dataframe thead th {\n",
              "        text-align: right;\n",
              "    }\n",
              "</style>\n",
              "<table border=\"1\" class=\"dataframe\">\n",
              "  <thead>\n",
              "    <tr style=\"text-align: right;\">\n",
              "      <th></th>\n",
              "      <th>eng</th>\n",
              "      <th>hindi</th>\n",
              "    </tr>\n",
              "  </thead>\n",
              "  <tbody>\n",
              "    <tr>\n",
              "      <th>149110</th>\n",
              "      <td>kgrab was unable to save the image to</td>\n",
              "      <td>केग्रैबछविकोयहाँसहेजनेमेंअक्षम</td>\n",
              "    </tr>\n",
              "    <tr>\n",
              "      <th>518661</th>\n",
              "      <td>similarly the imitation of the englishmen s se...</td>\n",
              "      <td>इसीप्रकारअंग्रेजीकेआत्मविश्वासऔरआत्मबलकीनकलबिन...</td>\n",
              "    </tr>\n",
              "    <tr>\n",
              "      <th>165856</th>\n",
              "      <td>successfully moved to trash</td>\n",
              "      <td></td>\n",
              "    </tr>\n",
              "    <tr>\n",
              "      <th>85540</th>\n",
              "      <td>put personalized signatures at the top of replies</td>\n",
              "      <td>उत्तरोंकीशीर्षपरव्यक्तिगतहस्ताक्षररखें</td>\n",
              "    </tr>\n",
              "    <tr>\n",
              "      <th>997697</th>\n",
              "      <td>the differences between subspecies are less di...</td>\n",
              "      <td>उपजातियोंमेंविशेषअंतरनहींपाएजातेहैं।</td>\n",
              "    </tr>\n",
              "    <tr>\n",
              "      <th>980240</th>\n",
              "      <td>liniment is a medicinal fluid rubbed into the ...</td>\n",
              "      <td>विलेपनएकऔषधीयद्रवहैजिसेदर्दअथवारुक्षतासेराहतपा...</td>\n",
              "    </tr>\n",
              "    <tr>\n",
              "      <th>3940</th>\n",
              "      <td>reserve left</td>\n",
              "      <td>अतिरिक्तबाकीः</td>\n",
              "    </tr>\n",
              "    <tr>\n",
              "      <th>715120</th>\n",
              "      <td>appeal</td>\n",
              "      <td>मिन्नत</td>\n",
              "    </tr>\n",
              "    <tr>\n",
              "      <th>97626</th>\n",
              "      <td>login</td>\n",
              "      <td>लॉगिनकरें</td>\n",
              "    </tr>\n",
              "    <tr>\n",
              "      <th>860480</th>\n",
              "      <td>placid</td>\n",
              "      <td>मस्तीख़ोर</td>\n",
              "    </tr>\n",
              "  </tbody>\n",
              "</table>\n",
              "</div>"
            ],
            "text/plain": [
              "                                                      eng                                              hindi\n",
              "149110             kgrab was unable to save the image to                      केग्रैबछविकोयहाँसहेजनेमेंअक्षम\n",
              "518661  similarly the imitation of the englishmen s se...  इसीप्रकारअंग्रेजीकेआत्मविश्वासऔरआत्मबलकीनकलबिन...\n",
              "165856                        successfully moved to trash                                                   \n",
              "85540   put personalized signatures at the top of replies             उत्तरोंकीशीर्षपरव्यक्तिगतहस्ताक्षररखें\n",
              "997697  the differences between subspecies are less di...               उपजातियोंमेंविशेषअंतरनहींपाएजातेहैं।\n",
              "980240  liniment is a medicinal fluid rubbed into the ...  विलेपनएकऔषधीयद्रवहैजिसेदर्दअथवारुक्षतासेराहतपा...\n",
              "3940                                         reserve left                                      अतिरिक्तबाकीः\n",
              "715120                                             appeal                                             मिन्नत\n",
              "97626                                               login                                          लॉगिनकरें\n",
              "860480                                             placid                                          मस्तीख़ोर"
            ]
          },
          "metadata": {
            "tags": []
          },
          "execution_count": 22
        }
      ]
    },
    {
      "cell_type": "markdown",
      "metadata": {
        "id": "ivMC0t8UAXnN",
        "colab_type": "text"
      },
      "source": [
        "## Filter short sentences"
      ]
    },
    {
      "cell_type": "code",
      "metadata": {
        "id": "6AWsw2AMAJUP",
        "colab_type": "code",
        "colab": {}
      },
      "source": [
        ""
      ],
      "execution_count": 0,
      "outputs": []
    }
  ]
}